{
 "cells": [
  {
   "cell_type": "code",
   "execution_count": 1,
   "id": "34c49c78-1129-4d8d-ae53-60755a08a74a",
   "metadata": {},
   "outputs": [
    {
     "name": "stdout",
     "output_type": "stream",
     "text": [
      "Requirement already satisfied: scikit-learn in c:\\users\\hp\\anaconda3\\lib\\site-packages (1.6.1)\n",
      "Collecting scikit-learn\n",
      "  Using cached scikit_learn-1.7.0-cp312-cp312-win_amd64.whl.metadata (14 kB)\n",
      "Note: you may need to restart the kernel to use updated packages.\n"
     ]
    },
    {
     "name": "stderr",
     "output_type": "stream",
     "text": [
      "ERROR: Could not find a version that satisfies the requirement version==0.23.0 (from versions: 0.1.0, 0.1.1)\n",
      "ERROR: No matching distribution found for version==0.23.0\n"
     ]
    },
    {
     "name": "stdout",
     "output_type": "stream",
     "text": [
      "1.6.1\n"
     ]
    }
   ],
   "source": [
    "#Tamim Mahmud from Daffodil International University\n",
    "#11/06/2025\n",
    "%pip install --upgrade scikit-learn version==0.23.0\n",
    "import sklearn \n",
    "print(sklearn. __version__)"
   ]
  },
  {
   "cell_type": "markdown",
   "id": "1240ff08-b180-47ec-ab0d-b848683eef3f",
   "metadata": {},
   "source": [
    " 1. Cross-Validation ki?\n",
    "  \n",
    "Cross-validation holo ekta model evaluation technique ja model er performance ke multiple data splits er upor test kore accurate estimate dey.\n",
    "\n",
    "Simple Train-Test Split:\n",
    "\n",
    "Tumi jodi shudhu ekbar train-test split koro (80%-20%), tahole test set jodi bhalo na hoy, result biased hote pare.\n",
    "\n",
    "Cross-validation:\n",
    "\n",
    "Multiple times data ke vag kore test kora hoy. Eita more reliable, less biased result dey."
   ]
  },
  {
   "cell_type": "markdown",
   "id": "b3859a7b-caf7-4498-b6b4-7350a2ec703a",
   "metadata": {},
   "source": [
    "Keno Cross-validation lagbe?\n",
    "✅ Overfitting dhorar jonno--Model train set-e bhalo, kintu test-e baje korse kina bujhbo\n",
    "✅ Reliable accuracy--ekta test set-e accuracy bhalo hoileo, arekta set-e kharap hote pare. Cross-validation er average accuracy boro set er moto\n",
    "✅ Model comparison\t--Multiple model ke compare korte cross-validation accurate idea dey.\n",
    "✅ Bias vs Variance measure\t--Fold-wise result dekhe model stable kina bujha jai.\n"
   ]
  },
  {
   "cell_type": "markdown",
   "id": "f8872ab3-6cfd-483c-9395-c8b342e18345",
   "metadata": {},
   "source": [
    "Cross-validation kivabe kaj kore?*****************\n",
    "\n",
    "🔁 K-Fold Cross Validation (Most Common)\n",
    "K=5 mane:\n",
    "\n",
    "\n",
    "Data ke 5 equal part (fold) e vag koro\n",
    "\n",
    "Prottek bar 1 part test, baki 4 part train\n",
    "\n",
    "Ei process 5 bar cholbe (prottek part test set hobe ekbar kore)\n",
    "\n",
    "Prottek bar er accuracy ber kore average nibo"
   ]
  },
  {
   "cell_type": "markdown",
   "id": "045e673d-1ff7-455b-9919-9059ccd14e72",
   "metadata": {},
   "source": [
    " 4. Kothay use hoy Cross-Validation?\n",
    "Cross-validation use hoy:\n",
    "\n",
    "\n",
    "✅ Model training e: Better model choose korte\n",
    "\n",
    "✅ Hyperparameter tuning e: Best parameter find korte (GridSearchCV, RandomizedSearchCV)\n",
    "\n",
    "✅ Compare models: Logistic vs Random Forest vs SVM etc.\n",
    "\n",
    "✅ Publishing/Paper e: Reliable evaluation metrics dorkar hole\n",
    "\n",
    "✅ Kaggle/ML competition e\n",
    "\n"
   ]
  },
  {
   "cell_type": "markdown",
   "id": "ec69c840-a0fd-4242-9ff1-0a331ce29bf4",
   "metadata": {},
   "source": [
    " 5. Cross-validation types (Short)\n",
    "*K-Fold===Most common (data ke K vag)\n",
    "*Stratified K-Fol==Classification e label balance maintain kore\n",
    "*Leave-One-Out (LOOCV)==Ekta data test hoy, baki gula train — very slow\n",
    "*TimeSeriesSplit==Time-based data jonno, future data ke test set"
   ]
  },
  {
   "cell_type": "markdown",
   "id": "9ae8d8de-4a78-4919-a747-87cf07bd8902",
   "metadata": {},
   "source": [
    "6. Kobe Cross-validation use kora uchit?\n",
    "   \n",
    " ✅ Data chhoto\tMust use CV\n",
    " \n",
    "✅ Model compare korte hobe\tUse CV\n",
    "\n",
    "\n",
    "✅ Overfitting check korte hobe\tUse CV\n",
    "\n",
    "❌ Data onek boro & training time beshi\tSkip or use 3-fold CV\n",
    "\n",
    "✅ Paper, report, or interview project\tUse CV for proper evaluation"
   ]
  },
  {
   "cell_type": "code",
   "execution_count": 6,
   "id": "1ae299f1-f2f0-4297-bdf3-da1e492e62ac",
   "metadata": {},
   "outputs": [
    {
     "name": "stdout",
     "output_type": "stream",
     "text": [
      "Fold_wise Accuracy:  [0.96666667 0.96666667 0.93333333 0.96666667 1.        ]\n",
      "Average Accuracy : 0.9666666666666668\n"
     ]
    }
   ],
   "source": [
    "from sklearn.datasets import load_iris\n",
    "from sklearn.ensemble import RandomForestClassifier\n",
    "from sklearn.model_selection import cross_val_score\n",
    "data=load_iris()\n",
    "X=data.data\n",
    "y=data.target\n",
    "model=RandomForestClassifier(n_estimators=50,random_state=42)\n",
    "score=cross_val_score(model,X,y,cv=5)\n",
    "print(\"Fold_wise Accuracy: \",score)\n",
    "print(\"Average Accuracy :\",score.mean())"
   ]
  },
  {
   "cell_type": "markdown",
   "id": "1e1945a4-dd68-4db9-a6fc-d437077a8c66",
   "metadata": {},
   "source": [
    "🎯 Eta mane hocche:\n",
    "\n",
    "Amader dataset ke 5 vag kore 5 bar model train-test kore dekha hoise.\n",
    "\n",
    "Prottek test-e accuracy ber kore average nise.\n",
    "\n",
    "Final accuracy 96.66% jar mane model ta stable & reliable."
   ]
  },
  {
   "cell_type": "code",
   "execution_count": 10,
   "id": "5ef37566-bb29-47a7-b904-1d70cf183951",
   "metadata": {},
   "outputs": [
    {
     "data": {
      "text/plain": [
       "Index(['PassengerId', 'Survived', 'Pclass', 'Name', 'Sex', 'Age', 'SibSp',\n",
       "       'Parch', 'Ticket', 'Fare', 'Cabin', 'Embarked'],\n",
       "      dtype='object')"
      ]
     },
     "execution_count": 10,
     "metadata": {},
     "output_type": "execute_result"
    }
   ],
   "source": [
    "import pandas as pd\n",
    "from sklearn.ensemble import RandomForestClassifier\n",
    "from sklearn.model_selection import cross_val_score\n",
    "from sklearn.preprocessing import LabelEncoder\n",
    "\n",
    "df=pd.read_csv('titanic.csv')\n",
    "df.columns"
   ]
  },
  {
   "cell_type": "code",
   "execution_count": 14,
   "id": "3d1a62ae-45dd-45fc-8631-485d6f6daf76",
   "metadata": {},
   "outputs": [
    {
     "data": {
      "text/html": [
       "<div>\n",
       "<style scoped>\n",
       "    .dataframe tbody tr th:only-of-type {\n",
       "        vertical-align: middle;\n",
       "    }\n",
       "\n",
       "    .dataframe tbody tr th {\n",
       "        vertical-align: top;\n",
       "    }\n",
       "\n",
       "    .dataframe thead th {\n",
       "        text-align: right;\n",
       "    }\n",
       "</style>\n",
       "<table border=\"1\" class=\"dataframe\">\n",
       "  <thead>\n",
       "    <tr style=\"text-align: right;\">\n",
       "      <th></th>\n",
       "      <th>Pclass</th>\n",
       "      <th>Sex</th>\n",
       "      <th>Age</th>\n",
       "      <th>Fare</th>\n",
       "    </tr>\n",
       "  </thead>\n",
       "  <tbody>\n",
       "    <tr>\n",
       "      <th>0</th>\n",
       "      <td>3</td>\n",
       "      <td>male</td>\n",
       "      <td>22.0</td>\n",
       "      <td>7.2500</td>\n",
       "    </tr>\n",
       "    <tr>\n",
       "      <th>1</th>\n",
       "      <td>1</td>\n",
       "      <td>female</td>\n",
       "      <td>38.0</td>\n",
       "      <td>71.2833</td>\n",
       "    </tr>\n",
       "    <tr>\n",
       "      <th>2</th>\n",
       "      <td>3</td>\n",
       "      <td>female</td>\n",
       "      <td>26.0</td>\n",
       "      <td>7.9250</td>\n",
       "    </tr>\n",
       "    <tr>\n",
       "      <th>3</th>\n",
       "      <td>1</td>\n",
       "      <td>female</td>\n",
       "      <td>35.0</td>\n",
       "      <td>53.1000</td>\n",
       "    </tr>\n",
       "    <tr>\n",
       "      <th>4</th>\n",
       "      <td>3</td>\n",
       "      <td>male</td>\n",
       "      <td>35.0</td>\n",
       "      <td>8.0500</td>\n",
       "    </tr>\n",
       "    <tr>\n",
       "      <th>...</th>\n",
       "      <td>...</td>\n",
       "      <td>...</td>\n",
       "      <td>...</td>\n",
       "      <td>...</td>\n",
       "    </tr>\n",
       "    <tr>\n",
       "      <th>885</th>\n",
       "      <td>3</td>\n",
       "      <td>female</td>\n",
       "      <td>39.0</td>\n",
       "      <td>29.1250</td>\n",
       "    </tr>\n",
       "    <tr>\n",
       "      <th>886</th>\n",
       "      <td>2</td>\n",
       "      <td>male</td>\n",
       "      <td>27.0</td>\n",
       "      <td>13.0000</td>\n",
       "    </tr>\n",
       "    <tr>\n",
       "      <th>887</th>\n",
       "      <td>1</td>\n",
       "      <td>female</td>\n",
       "      <td>19.0</td>\n",
       "      <td>30.0000</td>\n",
       "    </tr>\n",
       "    <tr>\n",
       "      <th>889</th>\n",
       "      <td>1</td>\n",
       "      <td>male</td>\n",
       "      <td>26.0</td>\n",
       "      <td>30.0000</td>\n",
       "    </tr>\n",
       "    <tr>\n",
       "      <th>890</th>\n",
       "      <td>3</td>\n",
       "      <td>male</td>\n",
       "      <td>32.0</td>\n",
       "      <td>7.7500</td>\n",
       "    </tr>\n",
       "  </tbody>\n",
       "</table>\n",
       "<p>714 rows × 4 columns</p>\n",
       "</div>"
      ],
      "text/plain": [
       "     Pclass     Sex   Age     Fare\n",
       "0         3    male  22.0   7.2500\n",
       "1         1  female  38.0  71.2833\n",
       "2         3  female  26.0   7.9250\n",
       "3         1  female  35.0  53.1000\n",
       "4         3    male  35.0   8.0500\n",
       "..      ...     ...   ...      ...\n",
       "885       3  female  39.0  29.1250\n",
       "886       2    male  27.0  13.0000\n",
       "887       1  female  19.0  30.0000\n",
       "889       1    male  26.0  30.0000\n",
       "890       3    male  32.0   7.7500\n",
       "\n",
       "[714 rows x 4 columns]"
      ]
     },
     "execution_count": 14,
     "metadata": {},
     "output_type": "execute_result"
    }
   ],
   "source": [
    "df=df[['Survived','Pclass','Sex','Age','Fare']]\n",
    "df.dropna(inplace=True)\n",
    "X=df.drop(['Survived'],axis='columns')\n",
    "y=df.Survived\n",
    "X"
   ]
  },
  {
   "cell_type": "code",
   "execution_count": 15,
   "id": "e1ce1abe-6a61-43ae-bc4d-d772d8f4a036",
   "metadata": {},
   "outputs": [
    {
     "data": {
      "text/plain": [
       "0      0\n",
       "1      1\n",
       "2      1\n",
       "3      1\n",
       "4      0\n",
       "      ..\n",
       "885    0\n",
       "886    0\n",
       "887    1\n",
       "889    1\n",
       "890    0\n",
       "Name: Survived, Length: 714, dtype: int64"
      ]
     },
     "execution_count": 15,
     "metadata": {},
     "output_type": "execute_result"
    }
   ],
   "source": [
    "y"
   ]
  },
  {
   "cell_type": "code",
   "execution_count": 18,
   "id": "dfd03d8a-98a6-4ea1-94fe-8858909bd624",
   "metadata": {},
   "outputs": [
    {
     "name": "stdout",
     "output_type": "stream",
     "text": [
      "Fold-wise Accuracy: [0.74825175 0.84615385 0.81118881 0.77622378 0.85211268]\n",
      "Average Accuracy: 0.806786171574904\n"
     ]
    }
   ],
   "source": [
    "le=LabelEncoder()\n",
    "X['Sex']=le.fit_transform(X['Sex'])\n",
    "md=RandomForestClassifier(n_estimators=100,random_state=42)\n",
    "score=cross_val_score(md,X,y,cv=5)\n",
    "print(\"Fold-wise Accuracy:\", score)\n",
    "print(\"Average Accuracy:\", score.mean())"
   ]
  },
  {
   "cell_type": "code",
   "execution_count": 19,
   "id": "d6f39a21-1efc-45d5-9fc0-fb28b7feda21",
   "metadata": {},
   "outputs": [
    {
     "name": "stdout",
     "output_type": "stream",
     "text": [
      "Fold-wise Accuracy: [0.74825175 0.84615385 0.81118881 0.77622378 0.85211268]\n",
      "Average Accuracy: 0.806786171574904\n"
     ]
    }
   ],
   "source": [
    "import pandas as pd\n",
    "from sklearn.ensemble import RandomForestClassifier\n",
    "from sklearn.model_selection import cross_val_score\n",
    "from sklearn.preprocessing import LabelEncoder\n",
    "\n",
    "# Step 1: Load Titanic dataset (CSV)\n",
    "df = pd.read_csv('https://raw.githubusercontent.com/datasciencedojo/datasets/master/titanic.csv')\n",
    "\n",
    "# Step 2: Select useful columns\n",
    "df = df[['Survived', 'Pclass', 'Sex', 'Age', 'Fare']]  # Basic features\n",
    "\n",
    "# Step 3: Drop missing values\n",
    "df.dropna(inplace=True)\n",
    "\n",
    "# Step 4: Separate features and labels\n",
    "X = df.drop('Survived', axis=1)\n",
    "y = df['Survived']\n",
    "\n",
    "# Step 5: Encode 'Sex' column\n",
    "le = LabelEncoder()\n",
    "X['Sex'] = le.fit_transform(X['Sex'])  # male=1, female=0\n",
    "\n",
    "# Step 6: Create model\n",
    "model = RandomForestClassifier(n_estimators=100, random_state=42)\n",
    "\n",
    "# Step 7: Perform 5-fold Cross-validation\n",
    "scores = cross_val_score(model, X, y, cv=5)\n",
    "\n",
    "# Step 8: Print results\n",
    "print(\"Fold-wise Accuracy:\", scores)\n",
    "print(\"Average Accuracy:\", scores.mean())\n"
   ]
  },
  {
   "cell_type": "markdown",
   "id": "7a8a2df0-6e56-49ca-a491-4a0d34e8f787",
   "metadata": {},
   "source": [
    " What is KFold Cross Validation?\n",
    " \n",
    "KFold mane hocche:\n",
    "\n",
    "🔹 Dataset ke K-ta same size part e vag kora hoy\n",
    "\n",
    "🔹 Prottek part ekbar test data hisebe use hoy, baaki gula training e\n",
    "\n",
    "🔹 Ebhabei K bar model train + test hoy\n",
    "\n",
    "🔹 Last-e average accuracy ber kora hoy\n",
    "\n",
    "🧠 Example:\n",
    "Data: 100 rows\n",
    "\n",
    "K = 5\n",
    "\n",
    "Each fold = 20 rows\n",
    "\n",
    "Fold-1 test, fold-2~5 train\n",
    "\n",
    "Then fold-2 test, fold-1,3,4,5 train\n",
    "→ Ebhabei 5 bar run hoy, finally average accuracy ber hoy"
   ]
  },
  {
   "cell_type": "code",
   "execution_count": 23,
   "id": "2cd0a1a5-5175-4af6-b732-6375aed69499",
   "metadata": {},
   "outputs": [
    {
     "name": "stdout",
     "output_type": "stream",
     "text": [
      "Fold 1 Accuracy: 1.0000\n",
      "Fold 2 Accuracy: 0.9667\n",
      "Fold 3 Accuracy: 0.9333\n",
      "Fold 4 Accuracy: 0.9333\n",
      "Fold 5 Accuracy: 0.9333\n",
      "Average Accuracy: 0.9533333333333335\n"
     ]
    }
   ],
   "source": [
    "from sklearn.datasets import load_iris\n",
    "from sklearn.model_selection import KFold\n",
    "from sklearn.ensemble import RandomForestClassifier\n",
    "from sklearn.metrics import accuracy_score\n",
    "import numpy as np\n",
    "\n",
    "# Load dataset\n",
    "data = load_iris()\n",
    "X = data.data\n",
    "y = data.target\n",
    "\n",
    "# Create KFold object\n",
    "kf = KFold(n_splits=5, shuffle=True, random_state=42)\n",
    "\n",
    "model = RandomForestClassifier()\n",
    "fold = 1\n",
    "accuracies = []\n",
    "\n",
    "for train_index, test_index in kf.split(X):\n",
    "    X_train, X_test = X[train_index], X[test_index]\n",
    "    y_train, y_test = y[train_index], y[test_index]\n",
    "    \n",
    "    model.fit(X_train, y_train)\n",
    "    y_pred = model.predict(X_test)\n",
    "    \n",
    "    acc = accuracy_score(y_test, y_pred)\n",
    "    print(f\"Fold {fold} Accuracy: {acc:.4f}\")\n",
    "    accuracies.append(acc)\n",
    "    fold += 1\n",
    "\n",
    "print(\"Average Accuracy:\", np.mean(accuracies))\n"
   ]
  },
  {
   "cell_type": "markdown",
   "id": "6af6af50-8ed1-4729-8fee-36b7e1bb82c7",
   "metadata": {},
   "source": [
    "✅ StratifiedKFold Ki?\n",
    "\n",
    "🔹 Normal K-Fold randomly split kore data, tai class er balance thakena.\n",
    "\n",
    "\n",
    "🔹 StratifiedKFold data ke emni bhabe vag kore, jate prottek fold-e class-ratio same thake.\n",
    "\n",
    "\n",
    "📊 Example:\n",
    "Dhoro,\n",
    "\n",
    "Total data: 100\n",
    "\n",
    "Class 0: 80 → 80%\n",
    "\n",
    "Class 1: 20 → 20%\n",
    "\n",
    "StratifiedKFold ensure korbe je:\n",
    "\n",
    "Prottek fold-e roughly 80% class 0, 20% class 1 thakbe.\n",
    "\n"
   ]
  },
  {
   "cell_type": "code",
   "execution_count": 22,
   "id": "ecd47291-d2bd-4bb2-8363-2643681e0e99",
   "metadata": {},
   "outputs": [
    {
     "name": "stdout",
     "output_type": "stream",
     "text": [
      "Fold 1 Accuracy: 0.9667\n",
      "Fold 2 Accuracy: 0.9667\n",
      "Fold 3 Accuracy: 0.9333\n",
      "Fold 4 Accuracy: 1.0000\n",
      "Fold 5 Accuracy: 0.9000\n",
      "Average Accuracy: 0.9533333333333334\n"
     ]
    }
   ],
   "source": [
    "from sklearn.datasets import load_iris\n",
    "from sklearn.ensemble import RandomForestClassifier\n",
    "from sklearn.model_selection import StratifiedKFold\n",
    "from sklearn.metrics import accuracy_score\n",
    "import numpy as np\n",
    "\n",
    "# Load data\n",
    "data = load_iris()\n",
    "X = data.data\n",
    "y = data.target\n",
    "\n",
    "# Create StratifiedKFold object\n",
    "skf = StratifiedKFold(n_splits=5, shuffle=True, random_state=42)\n",
    "\n",
    "model = RandomForestClassifier()\n",
    "\n",
    "fold = 1\n",
    "accuracies = []\n",
    "\n",
    "for train_index, test_index in skf.split(X, y):\n",
    "    X_train, X_test = X[train_index], X[test_index]\n",
    "    y_train, y_test = y[train_index], y[test_index]\n",
    "\n",
    "    model.fit(X_train, y_train)\n",
    "    y_pred = model.predict(X_test)\n",
    "\n",
    "    acc = accuracy_score(y_test, y_pred)\n",
    "    accuracies.append(acc)\n",
    "    print(f\"Fold {fold} Accuracy: {acc:.4f}\")\n",
    "    fold += 1\n",
    "\n",
    "# Average Accuracy\n",
    "print(\"Average Accuracy:\", np.mean(accuracies))\n"
   ]
  },
  {
   "cell_type": "markdown",
   "id": "6f8aa8d0-73e5-4d90-b766-629cbcad673e",
   "metadata": {},
   "source": [
    "✅ GridSearchCV Ki?\n",
    "GridSearchCV = Hyperparameter tuning er most powerful tool in Scikit-learn.\n",
    "\n",
    "🔎 Eta model-er jonne \"best parameter combination\" ber kore multiple trial er maddhome\n",
    "🌀 And eta automatic cross-validation use kore prottek combination test korar jonno.\n",
    "\n",
    "🔧 Example Bujho:\n",
    "Dhoro Random Forest classifier er ei 2 parameter ase:\n",
    "\n",
    "n_estimators: number of trees (50, 100, 150)\n",
    "\n",
    "max_depth: depth of each tree (3, 5, 7)\n",
    "\n",
    "Eta diye total combinations hobe:\n",
    "\n",
    "scss\n",
    "Copy code\n",
    "(50, 3), (50, 5), (50, 7), \n",
    "(100, 3), (100, 5), (100, 7), \n",
    "(150, 3), (150, 5), (150, 7)\n",
    "→ Total 9 combinations.\n",
    "\n",
    "GridSearchCV sobgula try kore and best accuracy + best parameter return kore."
   ]
  },
  {
   "cell_type": "code",
   "execution_count": 25,
   "id": "bc0782c2-659f-4987-8858-f86f617e12b2",
   "metadata": {},
   "outputs": [
    {
     "name": "stdout",
     "output_type": "stream",
     "text": [
      "✅ Best Score: 0.95\n",
      "✅ Best Parameters: {'max_depth': 3, 'n_estimators': 50}\n",
      "✅ Test Accuracy: 1.0\n"
     ]
    }
   ],
   "source": [
    "from sklearn.datasets import load_iris\n",
    "from sklearn.model_selection import train_test_split, GridSearchCV\n",
    "from sklearn.ensemble import RandomForestClassifier\n",
    "\n",
    "# Load data\n",
    "data = load_iris()\n",
    "X = data.data\n",
    "y = data.target\n",
    "\n",
    "# Split into train/test\n",
    "X_train, X_test, y_train, y_test = train_test_split(X, y, test_size=0.2, random_state=42)\n",
    "\n",
    "# Parameter grid\n",
    "param_grid = {\n",
    "    'n_estimators': [10, 50, 100],\n",
    "    'max_depth': [3, 5, 7]\n",
    "}\n",
    "\n",
    "# Create GridSearchCV object (with cross-validation)\n",
    "grid_search = GridSearchCV(RandomForestClassifier(random_state=42), param_grid, cv=5)\n",
    "grid_search.fit(X_train, y_train)\n",
    "\n",
    "# Best results\n",
    "print(\"✅ Best Score:\", grid_search.best_score_)\n",
    "print(\"✅ Best Parameters:\", grid_search.best_params_)\n",
    "\n",
    "# Test accuracy\n",
    "best_model = grid_search.best_estimator_\n",
    "print(\"✅ Test Accuracy:\", best_model.score(X_test, y_test))\n"
   ]
  },
  {
   "cell_type": "markdown",
   "id": "96c104d3-bc74-4e7e-8e86-2d60588796c1",
   "metadata": {},
   "source": [
    "RandomizedSearchCV"
   ]
  },
  {
   "cell_type": "code",
   "execution_count": 33,
   "id": "ac97c85e-8883-4125-bb35-f0ea85353cc4",
   "metadata": {},
   "outputs": [
    {
     "name": "stdout",
     "output_type": "stream",
     "text": [
      "Best Parameters: {'n_estimators': 250, 'min_samples_split': 6, 'min_samples_leaf': 2, 'max_depth': 20, 'bootstrap': True}\n",
      "Best Cross-Val Accuracy: 0.8639560043274432\n",
      "Test Accuracy: 0.8367346938775511\n",
      "Classification Report:\n",
      "               precision    recall  f1-score   support\n",
      "\n",
      "           0       0.85      0.98      0.91       247\n",
      "           1       0.44      0.09      0.14        47\n",
      "\n",
      "    accuracy                           0.84       294\n",
      "   macro avg       0.65      0.53      0.53       294\n",
      "weighted avg       0.78      0.84      0.79       294\n",
      "\n"
     ]
    }
   ],
   "source": [
    "import pandas as pd\n",
    "from sklearn.model_selection import train_test_split, StratifiedKFold, RandomizedSearchCV\n",
    "from sklearn.ensemble import RandomForestClassifier\n",
    "from sklearn.metrics import classification_report, accuracy_score, confusion_matrix\n",
    "import numpy as np\n",
    "\n",
    "# 🔹 Load dataset\n",
    "df = pd.read_csv(\"HR-Employee-Attrition.csv\")\n",
    "df['Attrition'] = df['Attrition'].map({'Yes': 1, 'No': 0})\n",
    "X = pd.get_dummies(df.drop(['Attrition'], axis=1), drop_first=True)\n",
    "y = df['Attrition']\n",
    "\n",
    "# 🔹 Train-test split\n",
    "X_train, X_test, y_train, y_test = train_test_split(X, y, stratify=y, test_size=0.2, random_state=42)\n",
    "\n",
    "# 🔹 Param grid (larger than grid search)\n",
    "param_dist = {\n",
    "    'n_estimators': np.arange(50, 301, 50),      # [50, 100, 150, 200, 250, 300]\n",
    "    'max_depth': [None, 5, 10, 15, 20],\n",
    "    'min_samples_split': [2, 4, 6, 8],\n",
    "    'min_samples_leaf': [1, 2, 4],\n",
    "    'bootstrap': [True, False]\n",
    "}\n",
    "\n",
    "# 🔹 StratifiedKFold\n",
    "cv = StratifiedKFold(n_splits=5, shuffle=True, random_state=42)\n",
    "\n",
    "# 🔹 RandomizedSearchCV\n",
    "random_search = RandomizedSearchCV(\n",
    "    estimator=RandomForestClassifier(random_state=42),\n",
    "    param_distributions=param_dist,\n",
    "    n_iter=20,            # Try 20 random combinations\n",
    "    scoring='accuracy',\n",
    "    cv=cv,\n",
    "    random_state=42,\n",
    "    n_jobs=-1             # Use all cores\n",
    ")\n",
    "\n",
    "# 🔹 Fit\n",
    "random_search.fit(X_train, y_train)\n",
    "\n",
    "# 🔹 Results\n",
    "print(\"Best Parameters:\", random_search.best_params_)\n",
    "print(\"Best Cross-Val Accuracy:\", random_search.best_score_)\n",
    "\n",
    "# 🔹 Test performance\n",
    "best_model = random_search.best_estimator_\n",
    "y_pred = best_model.predict(X_test)\n",
    "\n",
    "print(\"Test Accuracy:\", accuracy_score(y_test, y_pred))\n",
    "print(\"Classification Report:\\n\", classification_report(y_test, y_pred))\n"
   ]
  },
  {
   "cell_type": "markdown",
   "id": "8f275ace-787f-41d1-8583-952714bcad0e",
   "metadata": {},
   "source": [
    "🧠 cross_validate() ki?\n",
    "\n",
    "🔹 cross_validate() holo ekta model evaluation tool jeita:\n",
    "\n",
    "\n",
    "Multiple metrics calculate korte pare (accuracy, F1-score, etc.)\n",
    "\n",
    "\n",
    "Training time & scoring time o dekhay\n",
    "\n",
    "\n",
    "Train/test score duita'i dekhay (if needed)\n",
    "\n",
    "\n",
    "📌 Eta best use case:\n",
    "\n",
    "\n",
    "\"Ami accuracy chara aro metrics like precision, recall, f1-score dekhte chai 5-fold cross-validation e.\""
   ]
  },
  {
   "cell_type": "code",
   "execution_count": 34,
   "id": "37478fe6-2181-4545-92cc-468a6e4b5c79",
   "metadata": {},
   "outputs": [
    {
     "name": "stdout",
     "output_type": "stream",
     "text": [
      "Train Accuracies: [1. 1. 1. 1. 1.]\n",
      "Test Accuracies: [0.96666667 0.96666667 0.93333333 0.93333333 1.        ]\n",
      "Test F1 scores: [0.96658312 0.96658312 0.93265993 0.93333333 1.        ]\n"
     ]
    }
   ],
   "source": [
    "from sklearn.datasets import load_iris\n",
    "from sklearn.ensemble import RandomForestClassifier\n",
    "from sklearn.model_selection import cross_validate\n",
    "\n",
    "# Data\n",
    "data = load_iris()\n",
    "X, y = data.data, data.target\n",
    "\n",
    "# Model\n",
    "model = RandomForestClassifier()\n",
    "\n",
    "# Cross-validation\n",
    "results = cross_validate(\n",
    "    model,\n",
    "    X, y,\n",
    "    cv=5,\n",
    "    scoring=['accuracy', 'f1_macro'],   # multiple metrics\n",
    "    return_train_score=True             # optional\n",
    ")\n",
    "\n",
    "# Show results\n",
    "print(\"Train Accuracies:\", results['train_accuracy'])\n",
    "print(\"Test Accuracies:\", results['test_accuracy'])\n",
    "print(\"Test F1 scores:\", results['test_f1_macro'])\n"
   ]
  },
  {
   "cell_type": "code",
   "execution_count": null,
   "id": "e3bb02a5-98d8-46c4-b6ca-a417bcce7ecc",
   "metadata": {},
   "outputs": [],
   "source": []
  }
 ],
 "metadata": {
  "kernelspec": {
   "display_name": "Python 3 (ipykernel)",
   "language": "python",
   "name": "python3"
  },
  "language_info": {
   "codemirror_mode": {
    "name": "ipython",
    "version": 3
   },
   "file_extension": ".py",
   "mimetype": "text/x-python",
   "name": "python",
   "nbconvert_exporter": "python",
   "pygments_lexer": "ipython3",
   "version": "3.12.7"
  }
 },
 "nbformat": 4,
 "nbformat_minor": 5
}
